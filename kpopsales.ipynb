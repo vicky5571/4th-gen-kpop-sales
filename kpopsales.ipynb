{
 "cells": [
  {
   "cell_type": "markdown",
   "id": "7e6f28e9",
   "metadata": {},
   "source": [
    "# Kpop 4th Generation Sales\n",
    "\n",
    "Steps :\n",
    "1. Importing libraries\n",
    "2. loading data\n",
    "3. Changing data type\n",
    "4. Data cleaning\n",
    "5. Visualization"
   ]
  },
  {
   "cell_type": "markdown",
   "id": "6255eac4",
   "metadata": {},
   "source": [
    "#### 1. Importing Libraries"
   ]
  },
  {
   "cell_type": "code",
   "execution_count": 18,
   "id": "e6231afa",
   "metadata": {},
   "outputs": [],
   "source": [
    "import pandas as pd\n",
    "import matplotlib.pyplot as plt\n",
    "%matplotlib inline\n",
    "import seaborn as sns"
   ]
  },
  {
   "cell_type": "code",
   "execution_count": 19,
   "id": "40d7c89e",
   "metadata": {},
   "outputs": [],
   "source": [
    "import numpy as np\n",
    "%matplotlib inline\n",
    "import chart_studio.plotly as py"
   ]
  },
  {
   "cell_type": "code",
   "execution_count": 20,
   "id": "c99f773c",
   "metadata": {},
   "outputs": [
    {
     "name": "stdout",
     "output_type": "stream",
     "text": [
      "5.6.0\n"
     ]
    }
   ],
   "source": [
    "from plotly import __version__\n",
    "from plotly.offline import download_plotlyjs, init_notebook_mode, plot, iplot\n",
    "\n",
    "print(__version__) # requires version >= 1.9.0"
   ]
  },
  {
   "cell_type": "code",
   "execution_count": 21,
   "id": "45fba3ca",
   "metadata": {},
   "outputs": [],
   "source": [
    "import cufflinks as cf"
   ]
  },
  {
   "cell_type": "markdown",
   "id": "2359a9af",
   "metadata": {},
   "source": [
    "#### 2. Loading data"
   ]
  },
  {
   "cell_type": "code",
   "execution_count": 22,
   "id": "9e1263c1",
   "metadata": {},
   "outputs": [
    {
     "data": {
      "text/html": [
       "<div>\n",
       "<style scoped>\n",
       "    .dataframe tbody tr th:only-of-type {\n",
       "        vertical-align: middle;\n",
       "    }\n",
       "\n",
       "    .dataframe tbody tr th {\n",
       "        vertical-align: top;\n",
       "    }\n",
       "\n",
       "    .dataframe thead th {\n",
       "        text-align: right;\n",
       "    }\n",
       "</style>\n",
       "<table border=\"1\" class=\"dataframe\">\n",
       "  <thead>\n",
       "    <tr style=\"text-align: right;\">\n",
       "      <th></th>\n",
       "      <th>Artist</th>\n",
       "      <th>title</th>\n",
       "      <th>date</th>\n",
       "      <th>country</th>\n",
       "      <th>sales</th>\n",
       "      <th>peak_chart</th>\n",
       "    </tr>\n",
       "  </thead>\n",
       "  <tbody>\n",
       "    <tr>\n",
       "      <th>0</th>\n",
       "      <td>IZONE</td>\n",
       "      <td>Bloom*iz</td>\n",
       "      <td>2/17/2020</td>\n",
       "      <td>KOR</td>\n",
       "      <td>492504</td>\n",
       "      <td>2</td>\n",
       "    </tr>\n",
       "    <tr>\n",
       "      <th>1</th>\n",
       "      <td>IZONE</td>\n",
       "      <td>Bloom*iz</td>\n",
       "      <td>2/17/2020</td>\n",
       "      <td>JPN</td>\n",
       "      <td>23960</td>\n",
       "      <td>3</td>\n",
       "    </tr>\n",
       "    <tr>\n",
       "      <th>2</th>\n",
       "      <td>IZONE</td>\n",
       "      <td>TWELVE</td>\n",
       "      <td>10/21/2020</td>\n",
       "      <td>JPN</td>\n",
       "      <td>135113</td>\n",
       "      <td>1</td>\n",
       "    </tr>\n",
       "    <tr>\n",
       "      <th>3</th>\n",
       "      <td>IZONE</td>\n",
       "      <td>Color*Iz</td>\n",
       "      <td>10/29/2018</td>\n",
       "      <td>KOR</td>\n",
       "      <td>282816</td>\n",
       "      <td>2</td>\n",
       "    </tr>\n",
       "    <tr>\n",
       "      <th>4</th>\n",
       "      <td>IZONE</td>\n",
       "      <td>Color*Iz</td>\n",
       "      <td>10/29/2018</td>\n",
       "      <td>JPN</td>\n",
       "      <td>48,734</td>\n",
       "      <td>1</td>\n",
       "    </tr>\n",
       "    <tr>\n",
       "      <th>...</th>\n",
       "      <td>...</td>\n",
       "      <td>...</td>\n",
       "      <td>...</td>\n",
       "      <td>...</td>\n",
       "      <td>...</td>\n",
       "      <td>...</td>\n",
       "    </tr>\n",
       "    <tr>\n",
       "      <th>92</th>\n",
       "      <td>Everglow</td>\n",
       "      <td>Reminiscence</td>\n",
       "      <td>2/3/2020</td>\n",
       "      <td>KOR</td>\n",
       "      <td>30912</td>\n",
       "      <td>4</td>\n",
       "    </tr>\n",
       "    <tr>\n",
       "      <th>93</th>\n",
       "      <td>Everglow</td>\n",
       "      <td>Reminiscence</td>\n",
       "      <td>2/3/2020</td>\n",
       "      <td>JPN</td>\n",
       "      <td>1649</td>\n",
       "      <td>48</td>\n",
       "    </tr>\n",
       "    <tr>\n",
       "      <th>94</th>\n",
       "      <td>Everglow</td>\n",
       "      <td>-77.82X-78.29</td>\n",
       "      <td>9/21/2020</td>\n",
       "      <td>KOR</td>\n",
       "      <td>49388</td>\n",
       "      <td>4</td>\n",
       "    </tr>\n",
       "    <tr>\n",
       "      <th>95</th>\n",
       "      <td>Everglow</td>\n",
       "      <td>Arrival of Everglow</td>\n",
       "      <td>3/18/2019</td>\n",
       "      <td>KOR</td>\n",
       "      <td>28033</td>\n",
       "      <td>6</td>\n",
       "    </tr>\n",
       "    <tr>\n",
       "      <th>96</th>\n",
       "      <td>Everglow</td>\n",
       "      <td>Hush</td>\n",
       "      <td>8/19/2019</td>\n",
       "      <td>KOR</td>\n",
       "      <td>28639</td>\n",
       "      <td>5</td>\n",
       "    </tr>\n",
       "  </tbody>\n",
       "</table>\n",
       "<p>97 rows × 6 columns</p>\n",
       "</div>"
      ],
      "text/plain": [
       "      Artist                title        date country   sales  peak_chart\n",
       "0      IZONE             Bloom*iz   2/17/2020     KOR  492504           2\n",
       "1      IZONE             Bloom*iz   2/17/2020     JPN   23960           3\n",
       "2      IZONE               TWELVE  10/21/2020     JPN  135113           1\n",
       "3      IZONE             Color*Iz  10/29/2018     KOR  282816           2\n",
       "4      IZONE             Color*Iz  10/29/2018     JPN  48,734           1\n",
       "..       ...                  ...         ...     ...     ...         ...\n",
       "92  Everglow         Reminiscence    2/3/2020     KOR   30912           4\n",
       "93  Everglow         Reminiscence    2/3/2020     JPN    1649          48\n",
       "94  Everglow        -77.82X-78.29   9/21/2020     KOR   49388           4\n",
       "95  Everglow  Arrival of Everglow   3/18/2019     KOR   28033           6\n",
       "96  Everglow                 Hush   8/19/2019     KOR   28639           5\n",
       "\n",
       "[97 rows x 6 columns]"
      ]
     },
     "execution_count": 22,
     "metadata": {},
     "output_type": "execute_result"
    }
   ],
   "source": [
    "kpopsales = pd.read_csv('C:/Users/acer/Data Analysis/Projects/Kpop 4th gen sales/Kpop 4th gen sales.csv')\n",
    "kpopsales"
   ]
  },
  {
   "cell_type": "markdown",
   "id": "0f86ec3d",
   "metadata": {},
   "source": [
    "#### 3. Changing data type"
   ]
  },
  {
   "cell_type": "code",
   "execution_count": 23,
   "id": "624d643c",
   "metadata": {},
   "outputs": [
    {
     "data": {
      "text/plain": [
       "Artist        object\n",
       "title         object\n",
       "date          object\n",
       "country       object\n",
       "sales         object\n",
       "peak_chart     int64\n",
       "dtype: object"
      ]
     },
     "execution_count": 23,
     "metadata": {},
     "output_type": "execute_result"
    }
   ],
   "source": [
    "kpopsales.dtypes"
   ]
  },
  {
   "cell_type": "code",
   "execution_count": 24,
   "id": "d788b863",
   "metadata": {},
   "outputs": [
    {
     "data": {
      "text/plain": [
       "Artist              category\n",
       "title               category\n",
       "date          datetime64[ns]\n",
       "country             category\n",
       "sales                 object\n",
       "peak_chart          category\n",
       "dtype: object"
      ]
     },
     "execution_count": 24,
     "metadata": {},
     "output_type": "execute_result"
    }
   ],
   "source": [
    "kpopsales = kpopsales.astype({\"Artist\":'category',\"title\":'category',\"date\":'datetime64',\"country\":'category',\"peak_chart\":'category'})\n",
    "kpopsales.dtypes\n",
    "# sales column's datatype can not be changed because of wrong writing on some cells"
   ]
  },
  {
   "cell_type": "code",
   "execution_count": 25,
   "id": "4c4c3fa9",
   "metadata": {},
   "outputs": [],
   "source": [
    "# adding year column\n",
    "kpopsales['Year'] = kpopsales['date'].dt.strftime('%Y').astype('category')\n",
    "kpopsales['Yearmonth'] = kpopsales['date'].apply(lambda x: x.strftime('%B-%Y')).astype('category')"
   ]
  },
  {
   "cell_type": "markdown",
   "id": "925835a3",
   "metadata": {},
   "source": [
    "#### 4. Data Cleaning"
   ]
  },
  {
   "cell_type": "code",
   "execution_count": 26,
   "id": "321f11a1",
   "metadata": {},
   "outputs": [],
   "source": [
    "kpopsales['sales'] = kpopsales['sales'].str.replace(',' ,'')"
   ]
  },
  {
   "cell_type": "code",
   "execution_count": 27,
   "id": "811f359d",
   "metadata": {},
   "outputs": [
    {
     "data": {
      "text/plain": [
       "Artist              category\n",
       "title               category\n",
       "date          datetime64[ns]\n",
       "country             category\n",
       "sales                  int64\n",
       "peak_chart          category\n",
       "Year                category\n",
       "Yearmonth           category\n",
       "dtype: object"
      ]
     },
     "execution_count": 27,
     "metadata": {},
     "output_type": "execute_result"
    }
   ],
   "source": [
    "kpopsales['sales'] = kpopsales['sales'].astype('int64')\n",
    "kpopsales.dtypes"
   ]
  },
  {
   "cell_type": "markdown",
   "id": "0d16b2cf",
   "metadata": {},
   "source": [
    "#### 5. Data Visualization"
   ]
  },
  {
   "cell_type": "code",
   "execution_count": 12,
   "id": "feb7fd9a",
   "metadata": {},
   "outputs": [
    {
     "data": {
      "text/html": [
       "<div>\n",
       "<style scoped>\n",
       "    .dataframe tbody tr th:only-of-type {\n",
       "        vertical-align: middle;\n",
       "    }\n",
       "\n",
       "    .dataframe tbody tr th {\n",
       "        vertical-align: top;\n",
       "    }\n",
       "\n",
       "    .dataframe thead th {\n",
       "        text-align: right;\n",
       "    }\n",
       "</style>\n",
       "<table border=\"1\" class=\"dataframe\">\n",
       "  <thead>\n",
       "    <tr style=\"text-align: right;\">\n",
       "      <th></th>\n",
       "      <th>Artist</th>\n",
       "      <th>title</th>\n",
       "      <th>date</th>\n",
       "      <th>country</th>\n",
       "      <th>sales</th>\n",
       "      <th>peak_chart</th>\n",
       "      <th>Year</th>\n",
       "      <th>Yearmonth</th>\n",
       "    </tr>\n",
       "  </thead>\n",
       "  <tbody>\n",
       "    <tr>\n",
       "      <th>0</th>\n",
       "      <td>IZONE</td>\n",
       "      <td>Bloom*iz</td>\n",
       "      <td>2020-02-17</td>\n",
       "      <td>KOR</td>\n",
       "      <td>492504</td>\n",
       "      <td>2</td>\n",
       "      <td>2020</td>\n",
       "      <td>February-2020</td>\n",
       "    </tr>\n",
       "    <tr>\n",
       "      <th>1</th>\n",
       "      <td>IZONE</td>\n",
       "      <td>Bloom*iz</td>\n",
       "      <td>2020-02-17</td>\n",
       "      <td>JPN</td>\n",
       "      <td>23960</td>\n",
       "      <td>3</td>\n",
       "      <td>2020</td>\n",
       "      <td>February-2020</td>\n",
       "    </tr>\n",
       "    <tr>\n",
       "      <th>2</th>\n",
       "      <td>IZONE</td>\n",
       "      <td>TWELVE</td>\n",
       "      <td>2020-10-21</td>\n",
       "      <td>JPN</td>\n",
       "      <td>135113</td>\n",
       "      <td>1</td>\n",
       "      <td>2020</td>\n",
       "      <td>October-2020</td>\n",
       "    </tr>\n",
       "    <tr>\n",
       "      <th>3</th>\n",
       "      <td>IZONE</td>\n",
       "      <td>Color*Iz</td>\n",
       "      <td>2018-10-29</td>\n",
       "      <td>KOR</td>\n",
       "      <td>282816</td>\n",
       "      <td>2</td>\n",
       "      <td>2018</td>\n",
       "      <td>October-2018</td>\n",
       "    </tr>\n",
       "    <tr>\n",
       "      <th>4</th>\n",
       "      <td>IZONE</td>\n",
       "      <td>Color*Iz</td>\n",
       "      <td>2018-10-29</td>\n",
       "      <td>JPN</td>\n",
       "      <td>48734</td>\n",
       "      <td>1</td>\n",
       "      <td>2018</td>\n",
       "      <td>October-2018</td>\n",
       "    </tr>\n",
       "  </tbody>\n",
       "</table>\n",
       "</div>"
      ],
      "text/plain": [
       "  Artist     title       date country   sales peak_chart  Year      Yearmonth\n",
       "0  IZONE  Bloom*iz 2020-02-17     KOR  492504          2  2020  February-2020\n",
       "1  IZONE  Bloom*iz 2020-02-17     JPN   23960          3  2020  February-2020\n",
       "2  IZONE    TWELVE 2020-10-21     JPN  135113          1  2020   October-2020\n",
       "3  IZONE  Color*Iz 2018-10-29     KOR  282816          2  2018   October-2018\n",
       "4  IZONE  Color*Iz 2018-10-29     JPN   48734          1  2018   October-2018"
      ]
     },
     "execution_count": 12,
     "metadata": {},
     "output_type": "execute_result"
    }
   ],
   "source": [
    "kpopsales.head()"
   ]
  },
  {
   "cell_type": "code",
   "execution_count": 13,
   "id": "ede30113",
   "metadata": {},
   "outputs": [
    {
     "data": {
      "text/html": [
       "<div>\n",
       "<style scoped>\n",
       "    .dataframe tbody tr th:only-of-type {\n",
       "        vertical-align: middle;\n",
       "    }\n",
       "\n",
       "    .dataframe tbody tr th {\n",
       "        vertical-align: top;\n",
       "    }\n",
       "\n",
       "    .dataframe thead th {\n",
       "        text-align: right;\n",
       "    }\n",
       "</style>\n",
       "<table border=\"1\" class=\"dataframe\">\n",
       "  <thead>\n",
       "    <tr style=\"text-align: right;\">\n",
       "      <th></th>\n",
       "      <th>sales</th>\n",
       "    </tr>\n",
       "    <tr>\n",
       "      <th>Artist</th>\n",
       "      <th></th>\n",
       "    </tr>\n",
       "  </thead>\n",
       "  <tbody>\n",
       "    <tr>\n",
       "      <th>IZONE</th>\n",
       "      <td>2356819</td>\n",
       "    </tr>\n",
       "    <tr>\n",
       "      <th>Stray Kids</th>\n",
       "      <td>1916965</td>\n",
       "    </tr>\n",
       "    <tr>\n",
       "      <th>TXT</th>\n",
       "      <td>1692632</td>\n",
       "    </tr>\n",
       "    <tr>\n",
       "      <th>Ateez</th>\n",
       "      <td>1588505</td>\n",
       "    </tr>\n",
       "    <tr>\n",
       "      <th>Treasure</th>\n",
       "      <td>1112672</td>\n",
       "    </tr>\n",
       "    <tr>\n",
       "      <th>(G)I-dle</th>\n",
       "      <td>787686</td>\n",
       "    </tr>\n",
       "    <tr>\n",
       "      <th>ITZY</th>\n",
       "      <td>560073</td>\n",
       "    </tr>\n",
       "    <tr>\n",
       "      <th>Cravity</th>\n",
       "      <td>510279</td>\n",
       "    </tr>\n",
       "    <tr>\n",
       "      <th>Loona</th>\n",
       "      <td>357581</td>\n",
       "    </tr>\n",
       "    <tr>\n",
       "      <th>Verivery</th>\n",
       "      <td>236177</td>\n",
       "    </tr>\n",
       "    <tr>\n",
       "      <th>Everglow</th>\n",
       "      <td>138621</td>\n",
       "    </tr>\n",
       "  </tbody>\n",
       "</table>\n",
       "</div>"
      ],
      "text/plain": [
       "              sales\n",
       "Artist             \n",
       "IZONE       2356819\n",
       "Stray Kids  1916965\n",
       "TXT         1692632\n",
       "Ateez       1588505\n",
       "Treasure    1112672\n",
       "(G)I-dle     787686\n",
       "ITZY         560073\n",
       "Cravity      510279\n",
       "Loona        357581\n",
       "Verivery     236177\n",
       "Everglow     138621"
      ]
     },
     "execution_count": 13,
     "metadata": {},
     "output_type": "execute_result"
    }
   ],
   "source": [
    "# Top Sales Group\n",
    "kpopsales.groupby('Artist').sum('sales').sort_values(by = 'sales', ascending = False)"
   ]
  },
  {
   "cell_type": "code",
   "execution_count": 14,
   "id": "ca0fa8b1",
   "metadata": {},
   "outputs": [
    {
     "data": {
      "image/png": "[encoded data removed]",
      "text/plain": [
       "<Figure size 432x288 with 1 Axes>"
      ]
     },
     "metadata": {
      "needs_background": "light"
     },
     "output_type": "display_data"
    },
    {
     "data": {
      "text/plain": [
       "<Figure size 7200x7200 with 0 Axes>"
      ]
     },
     "metadata": {},
     "output_type": "display_data"
    }
   ],
   "source": [
    "plt.barh(kpopsales['Artist'], kpopsales['sales'])\n",
    "plt.title(\"Top Sales 4th Generation Kpop Group\")\n",
    "plt.xlabel(\"Sales\")\n",
    "plt.ylabel(\"Artist\")\n",
    "plt.figure(figsize=(100, 100))  # width:20, height:3\n",
    "plt.show()"
   ]
  },
  {
   "cell_type": "code",
   "execution_count": 15,
   "id": "eedade35",
   "metadata": {},
   "outputs": [
    {
     "data": {
      "text/html": [
       "<div>\n",
       "<style scoped>\n",
       "    .dataframe tbody tr th:only-of-type {\n",
       "        vertical-align: middle;\n",
       "    }\n",
       "\n",
       "    .dataframe tbody tr th {\n",
       "        vertical-align: top;\n",
       "    }\n",
       "\n",
       "    .dataframe thead th {\n",
       "        text-align: right;\n",
       "    }\n",
       "</style>\n",
       "<table border=\"1\" class=\"dataframe\">\n",
       "  <thead>\n",
       "    <tr style=\"text-align: right;\">\n",
       "      <th></th>\n",
       "      <th>sales</th>\n",
       "    </tr>\n",
       "    <tr>\n",
       "      <th>country</th>\n",
       "      <th></th>\n",
       "    </tr>\n",
       "  </thead>\n",
       "  <tbody>\n",
       "    <tr>\n",
       "      <th>KOR</th>\n",
       "      <td>10221263</td>\n",
       "    </tr>\n",
       "    <tr>\n",
       "      <th>JPN</th>\n",
       "      <td>853998</td>\n",
       "    </tr>\n",
       "    <tr>\n",
       "      <th>CHN</th>\n",
       "      <td>182749</td>\n",
       "    </tr>\n",
       "  </tbody>\n",
       "</table>\n",
       "</div>"
      ],
      "text/plain": [
       "            sales\n",
       "country          \n",
       "KOR      10221263\n",
       "JPN        853998\n",
       "CHN        182749"
      ]
     },
     "execution_count": 15,
     "metadata": {},
     "output_type": "execute_result"
    }
   ],
   "source": [
    "# Best region for kpop industries\n",
    "kpopsales.groupby('country').sum('sales').sort_values(by='sales', ascending=False)"
   ]
  },
  {
   "cell_type": "code",
   "execution_count": 31,
   "id": "cef77411",
   "metadata": {},
   "outputs": [
    {
     "data": {
      "text/plain": [
       "<AxesSubplot:xlabel='Year'>"
      ]
     },
     "execution_count": 31,
     "metadata": {},
     "output_type": "execute_result"
    },
    {
     "data": {
      "image/png": "[encoded data removed]",
      "text/plain": [
       "<Figure size 432x288 with 1 Axes>"
      ]
     },
     "metadata": {
      "needs_background": "light"
     },
     "output_type": "display_data"
    }
   ],
   "source": [
    "# Sales year on year\n",
    "kpopsales.groupby('Year').sum('sales').plot()"
   ]
  },
  {
   "cell_type": "markdown",
   "id": "cf48a1df",
   "metadata": {},
   "source": [
    "## Conclusion\n",
    "\n",
    "1. Sales peaked at 2020. it happened at the same time as the pandemic around the world, but there is no data available to ensure that there is a correlation\n",
    "2. Korea has the highest market for kpop followed by Japan and China.\n",
    "3. IZONE is number 1 in term of sales"
   ]
  },
  {
   "cell_type": "code",
   "execution_count": 35,
   "id": "d890db9e",
   "metadata": {},
   "outputs": [
    {
     "data": {
      "text/html": [
       "<div>\n",
       "<style scoped>\n",
       "    .dataframe tbody tr th:only-of-type {\n",
       "        vertical-align: middle;\n",
       "    }\n",
       "\n",
       "    .dataframe tbody tr th {\n",
       "        vertical-align: top;\n",
       "    }\n",
       "\n",
       "    .dataframe thead th {\n",
       "        text-align: right;\n",
       "    }\n",
       "</style>\n",
       "<table border=\"1\" class=\"dataframe\">\n",
       "  <thead>\n",
       "    <tr style=\"text-align: right;\">\n",
       "      <th></th>\n",
       "      <th>sales</th>\n",
       "    </tr>\n",
       "    <tr>\n",
       "      <th>Yearmonth</th>\n",
       "      <th></th>\n",
       "    </tr>\n",
       "  </thead>\n",
       "  <tbody>\n",
       "    <tr>\n",
       "      <th>April-2017</th>\n",
       "      <td>5924</td>\n",
       "    </tr>\n",
       "    <tr>\n",
       "      <th>April-2019</th>\n",
       "      <td>17630</td>\n",
       "    </tr>\n",
       "    <tr>\n",
       "      <th>April-2020</th>\n",
       "      <td>842030</td>\n",
       "    </tr>\n",
       "    <tr>\n",
       "      <th>August-2018</th>\n",
       "      <td>248213</td>\n",
       "    </tr>\n",
       "    <tr>\n",
       "      <th>August-2019</th>\n",
       "      <td>28639</td>\n",
       "    </tr>\n",
       "    <tr>\n",
       "      <th>August-2020</th>\n",
       "      <td>796028</td>\n",
       "    </tr>\n",
       "    <tr>\n",
       "      <th>December-2019</th>\n",
       "      <td>269303</td>\n",
       "    </tr>\n",
       "    <tr>\n",
       "      <th>December-2020</th>\n",
       "      <td>447749</td>\n",
       "    </tr>\n",
       "    <tr>\n",
       "      <th>February-2019</th>\n",
       "      <td>96823</td>\n",
       "    </tr>\n",
       "    <tr>\n",
       "      <th>February-2020</th>\n",
       "      <td>651267</td>\n",
       "    </tr>\n",
       "    <tr>\n",
       "      <th>January-2018</th>\n",
       "      <td>119984</td>\n",
       "    </tr>\n",
       "    <tr>\n",
       "      <th>January-2019</th>\n",
       "      <td>124119</td>\n",
       "    </tr>\n",
       "    <tr>\n",
       "      <th>January-2020</th>\n",
       "      <td>214251</td>\n",
       "    </tr>\n",
       "    <tr>\n",
       "      <th>January-2021</th>\n",
       "      <td>872185</td>\n",
       "    </tr>\n",
       "    <tr>\n",
       "      <th>July-2019</th>\n",
       "      <td>24927</td>\n",
       "    </tr>\n",
       "    <tr>\n",
       "      <th>July-2020</th>\n",
       "      <td>430455</td>\n",
       "    </tr>\n",
       "    <tr>\n",
       "      <th>June-2019</th>\n",
       "      <td>379192</td>\n",
       "    </tr>\n",
       "    <tr>\n",
       "      <th>June-2020</th>\n",
       "      <td>579066</td>\n",
       "    </tr>\n",
       "    <tr>\n",
       "      <th>March-2017</th>\n",
       "      <td>7130</td>\n",
       "    </tr>\n",
       "    <tr>\n",
       "      <th>March-2018</th>\n",
       "      <td>161379</td>\n",
       "    </tr>\n",
       "    <tr>\n",
       "      <th>March-2019</th>\n",
       "      <td>565294</td>\n",
       "    </tr>\n",
       "    <tr>\n",
       "      <th>March-2020</th>\n",
       "      <td>161733</td>\n",
       "    </tr>\n",
       "    <tr>\n",
       "      <th>March-2021</th>\n",
       "      <td>452550</td>\n",
       "    </tr>\n",
       "    <tr>\n",
       "      <th>May-2018</th>\n",
       "      <td>69969</td>\n",
       "    </tr>\n",
       "    <tr>\n",
       "      <th>May-2019</th>\n",
       "      <td>165091</td>\n",
       "    </tr>\n",
       "    <tr>\n",
       "      <th>May-2020</th>\n",
       "      <td>417867</td>\n",
       "    </tr>\n",
       "    <tr>\n",
       "      <th>November-2020</th>\n",
       "      <td>291495</td>\n",
       "    </tr>\n",
       "    <tr>\n",
       "      <th>October-2017</th>\n",
       "      <td>11136</td>\n",
       "    </tr>\n",
       "    <tr>\n",
       "      <th>October-2018</th>\n",
       "      <td>608022</td>\n",
       "    </tr>\n",
       "    <tr>\n",
       "      <th>October-2019</th>\n",
       "      <td>524522</td>\n",
       "    </tr>\n",
       "    <tr>\n",
       "      <th>October-2020</th>\n",
       "      <td>863927</td>\n",
       "    </tr>\n",
       "    <tr>\n",
       "      <th>September-2017</th>\n",
       "      <td>7869</td>\n",
       "    </tr>\n",
       "    <tr>\n",
       "      <th>September-2020</th>\n",
       "      <td>802241</td>\n",
       "    </tr>\n",
       "  </tbody>\n",
       "</table>\n",
       "</div>"
      ],
      "text/plain": [
       "                 sales\n",
       "Yearmonth             \n",
       "April-2017        5924\n",
       "April-2019       17630\n",
       "April-2020      842030\n",
       "August-2018     248213\n",
       "August-2019      28639\n",
       "August-2020     796028\n",
       "December-2019   269303\n",
       "December-2020   447749\n",
       "February-2019    96823\n",
       "February-2020   651267\n",
       "January-2018    119984\n",
       "January-2019    124119\n",
       "January-2020    214251\n",
       "January-2021    872185\n",
       "July-2019        24927\n",
       "July-2020       430455\n",
       "June-2019       379192\n",
       "June-2020       579066\n",
       "March-2017        7130\n",
       "March-2018      161379\n",
       "March-2019      565294\n",
       "March-2020      161733\n",
       "March-2021      452550\n",
       "May-2018         69969\n",
       "May-2019        165091\n",
       "May-2020        417867\n",
       "November-2020   291495\n",
       "October-2017     11136\n",
       "October-2018    608022\n",
       "October-2019    524522\n",
       "October-2020    863927\n",
       "September-2017    7869\n",
       "September-2020  802241"
      ]
     },
     "execution_count": 35,
     "metadata": {},
     "output_type": "execute_result"
    }
   ],
   "source": [
    "kpopsales.groupby('Yearmonth').sum()"
   ]
  },
  {
   "cell_type": "code",
   "execution_count": 37,
   "id": "14a559ef",
   "metadata": {},
   "outputs": [
    {
     "ename": "KeyError",
     "evalue": "'Artists'",
     "output_type": "error",
     "traceback": [
      "\u001b[1;31m---------------------------------------------------------------------------\u001b[0m",
      "\u001b[1;31mKeyError\u001b[0m                                  Traceback (most recent call last)",
      "\u001b[1;32m~\\anaconda3\\lib\\site-packages\\pandas\\core\\indexes\\base.py\u001b[0m in \u001b[0;36mget_loc\u001b[1;34m(self, key, method, tolerance)\u001b[0m\n\u001b[0;32m   3620\u001b[0m             \u001b[1;32mtry\u001b[0m\u001b[1;33m:\u001b[0m\u001b[1;33m\u001b[0m\u001b[1;33m\u001b[0m\u001b[0m\n\u001b[1;32m-> 3621\u001b[1;33m                 \u001b[1;32mreturn\u001b[0m \u001b[0mself\u001b[0m\u001b[1;33m.\u001b[0m\u001b[0m_engine\u001b[0m\u001b[1;33m.\u001b[0m\u001b[0mget_loc\u001b[0m\u001b[1;33m(\u001b[0m\u001b[0mcasted_key\u001b[0m\u001b[1;33m)\u001b[0m\u001b[1;33m\u001b[0m\u001b[1;33m\u001b[0m\u001b[0m\n\u001b[0m\u001b[0;32m   3622\u001b[0m             \u001b[1;32mexcept\u001b[0m \u001b[0mKeyError\u001b[0m \u001b[1;32mas\u001b[0m \u001b[0merr\u001b[0m\u001b[1;33m:\u001b[0m\u001b[1;33m\u001b[0m\u001b[1;33m\u001b[0m\u001b[0m\n",
      "\u001b[1;32m~\\anaconda3\\lib\\site-packages\\pandas\\_libs\\index.pyx\u001b[0m in \u001b[0;36mpandas._libs.index.IndexEngine.get_loc\u001b[1;34m()\u001b[0m\n",
      "\u001b[1;32m~\\anaconda3\\lib\\site-packages\\pandas\\_libs\\index.pyx\u001b[0m in \u001b[0;36mpandas._libs.index.IndexEngine.get_loc\u001b[1;34m()\u001b[0m\n",
      "\u001b[1;32mpandas\\_libs\\hashtable_class_helper.pxi\u001b[0m in \u001b[0;36mpandas._libs.hashtable.PyObjectHashTable.get_item\u001b[1;34m()\u001b[0m\n",
      "\u001b[1;32mpandas\\_libs\\hashtable_class_helper.pxi\u001b[0m in \u001b[0;36mpandas._libs.hashtable.PyObjectHashTable.get_item\u001b[1;34m()\u001b[0m\n",
      "\u001b[1;31mKeyError\u001b[0m: 'Artists'",
      "\nThe above exception was the direct cause of the following exception:\n",
      "\u001b[1;31mKeyError\u001b[0m                                  Traceback (most recent call last)",
      "\u001b[1;32m<ipython-input-37-3d1cbf94e21f>\u001b[0m in \u001b[0;36m<module>\u001b[1;34m\u001b[0m\n\u001b[0;32m      1\u001b[0m \u001b[0mplt\u001b[0m\u001b[1;33m.\u001b[0m\u001b[0mfigure\u001b[0m\u001b[1;33m(\u001b[0m\u001b[0mfigsize\u001b[0m\u001b[1;33m=\u001b[0m\u001b[1;33m(\u001b[0m\u001b[1;36m12\u001b[0m\u001b[1;33m,\u001b[0m\u001b[1;36m3\u001b[0m\u001b[1;33m)\u001b[0m\u001b[1;33m)\u001b[0m\u001b[1;33m\u001b[0m\u001b[1;33m\u001b[0m\u001b[0m\n\u001b[1;32m----> 2\u001b[1;33m \u001b[0mplt\u001b[0m\u001b[1;33m.\u001b[0m\u001b[0mplot\u001b[0m\u001b[1;33m(\u001b[0m\u001b[0mkpopsales\u001b[0m\u001b[1;33m.\u001b[0m\u001b[0mgroupby\u001b[0m\u001b[1;33m(\u001b[0m\u001b[1;34m'Yearmonth'\u001b[0m\u001b[1;33m)\u001b[0m\u001b[1;33m.\u001b[0m\u001b[0msum\u001b[0m\u001b[1;33m(\u001b[0m\u001b[1;33m)\u001b[0m\u001b[1;33m,\u001b[0m \u001b[0mkpopsales\u001b[0m\u001b[1;33m[\u001b[0m\u001b[1;34m'Artists'\u001b[0m\u001b[1;33m]\u001b[0m\u001b[1;33m)\u001b[0m\u001b[1;33m\u001b[0m\u001b[1;33m\u001b[0m\u001b[0m\n\u001b[0m",
      "\u001b[1;32m~\\anaconda3\\lib\\site-packages\\pandas\\core\\frame.py\u001b[0m in \u001b[0;36m__getitem__\u001b[1;34m(self, key)\u001b[0m\n\u001b[0;32m   3503\u001b[0m             \u001b[1;32mif\u001b[0m \u001b[0mself\u001b[0m\u001b[1;33m.\u001b[0m\u001b[0mcolumns\u001b[0m\u001b[1;33m.\u001b[0m\u001b[0mnlevels\u001b[0m \u001b[1;33m>\u001b[0m \u001b[1;36m1\u001b[0m\u001b[1;33m:\u001b[0m\u001b[1;33m\u001b[0m\u001b[1;33m\u001b[0m\u001b[0m\n\u001b[0;32m   3504\u001b[0m                 \u001b[1;32mreturn\u001b[0m \u001b[0mself\u001b[0m\u001b[1;33m.\u001b[0m\u001b[0m_getitem_multilevel\u001b[0m\u001b[1;33m(\u001b[0m\u001b[0mkey\u001b[0m\u001b[1;33m)\u001b[0m\u001b[1;33m\u001b[0m\u001b[1;33m\u001b[0m\u001b[0m\n\u001b[1;32m-> 3505\u001b[1;33m             \u001b[0mindexer\u001b[0m \u001b[1;33m=\u001b[0m \u001b[0mself\u001b[0m\u001b[1;33m.\u001b[0m\u001b[0mcolumns\u001b[0m\u001b[1;33m.\u001b[0m\u001b[0mget_loc\u001b[0m\u001b[1;33m(\u001b[0m\u001b[0mkey\u001b[0m\u001b[1;33m)\u001b[0m\u001b[1;33m\u001b[0m\u001b[1;33m\u001b[0m\u001b[0m\n\u001b[0m\u001b[0;32m   3506\u001b[0m             \u001b[1;32mif\u001b[0m \u001b[0mis_integer\u001b[0m\u001b[1;33m(\u001b[0m\u001b[0mindexer\u001b[0m\u001b[1;33m)\u001b[0m\u001b[1;33m:\u001b[0m\u001b[1;33m\u001b[0m\u001b[1;33m\u001b[0m\u001b[0m\n\u001b[0;32m   3507\u001b[0m                 \u001b[0mindexer\u001b[0m \u001b[1;33m=\u001b[0m \u001b[1;33m[\u001b[0m\u001b[0mindexer\u001b[0m\u001b[1;33m]\u001b[0m\u001b[1;33m\u001b[0m\u001b[1;33m\u001b[0m\u001b[0m\n",
      "\u001b[1;32m~\\anaconda3\\lib\\site-packages\\pandas\\core\\indexes\\base.py\u001b[0m in \u001b[0;36mget_loc\u001b[1;34m(self, key, method, tolerance)\u001b[0m\n\u001b[0;32m   3621\u001b[0m                 \u001b[1;32mreturn\u001b[0m \u001b[0mself\u001b[0m\u001b[1;33m.\u001b[0m\u001b[0m_engine\u001b[0m\u001b[1;33m.\u001b[0m\u001b[0mget_loc\u001b[0m\u001b[1;33m(\u001b[0m\u001b[0mcasted_key\u001b[0m\u001b[1;33m)\u001b[0m\u001b[1;33m\u001b[0m\u001b[1;33m\u001b[0m\u001b[0m\n\u001b[0;32m   3622\u001b[0m             \u001b[1;32mexcept\u001b[0m \u001b[0mKeyError\u001b[0m \u001b[1;32mas\u001b[0m \u001b[0merr\u001b[0m\u001b[1;33m:\u001b[0m\u001b[1;33m\u001b[0m\u001b[1;33m\u001b[0m\u001b[0m\n\u001b[1;32m-> 3623\u001b[1;33m                 \u001b[1;32mraise\u001b[0m \u001b[0mKeyError\u001b[0m\u001b[1;33m(\u001b[0m\u001b[0mkey\u001b[0m\u001b[1;33m)\u001b[0m \u001b[1;32mfrom\u001b[0m \u001b[0merr\u001b[0m\u001b[1;33m\u001b[0m\u001b[1;33m\u001b[0m\u001b[0m\n\u001b[0m\u001b[0;32m   3624\u001b[0m             \u001b[1;32mexcept\u001b[0m \u001b[0mTypeError\u001b[0m\u001b[1;33m:\u001b[0m\u001b[1;33m\u001b[0m\u001b[1;33m\u001b[0m\u001b[0m\n\u001b[0;32m   3625\u001b[0m                 \u001b[1;31m# If we have a listlike key, _check_indexing_error will raise\u001b[0m\u001b[1;33m\u001b[0m\u001b[1;33m\u001b[0m\u001b[0m\n",
      "\u001b[1;31mKeyError\u001b[0m: 'Artists'"
     ]
    },
    {
     "data": {
      "text/plain": [
       "<Figure size 864x216 with 0 Axes>"
      ]
     },
     "metadata": {},
     "output_type": "display_data"
    }
   ],
   "source": [
    "plt.figure(figsize=(12,3))\n",
    "plt.plot(kpopsales.groupby('Yearmonth').sum(), kpopsales['Artists'])"
   ]
  },
  {
   "cell_type": "code",
   "execution_count": null,
   "id": "4df40fc8",
   "metadata": {},
   "outputs": [],
   "source": []
  }
 ],
 "metadata": {
  "kernelspec": {
   "display_name": "Python 3",
   "language": "python",
   "name": "python3"
  },
  "language_info": {
   "codemirror_mode": {
    "name": "ipython",
    "version": 3
   },
   "file_extension": ".py",
   "mimetype": "text/x-python",
   "name": "python",
   "nbconvert_exporter": "python",
   "pygments_lexer": "ipython3",
   "version": "3.9.12"
  }
 },
 "nbformat": 4,
 "nbformat_minor": 5
}
